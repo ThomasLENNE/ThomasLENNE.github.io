{
 "cells": [
  {
   "cell_type": "markdown",
   "metadata": {},
   "source": [
    "# <center> EXERCISEUR CONVERSIONS DE BASES </center>"
   ]
  },
  {
   "cell_type": "markdown",
   "metadata": {},
   "source": [
    "## <center> base 10 ↔ base 2 </center>"
   ]
  },
  {
   "cell_type": "code",
   "execution_count": 1,
   "metadata": {},
   "outputs": [
    {
     "name": "stdout",
     "output_type": "stream",
     "text": [
      "Score final : 1\n"
     ]
    }
   ],
   "source": [
    "from random import *\n",
    "from IPython.display import clear_output\n",
    "\n",
    "nbits=8\n",
    "n_10=randint(0,2**nbits)\n",
    "\n",
    "pts=0\n",
    "\n",
    "print(\"Quelle est l'écriture en base 2 de l'entier \"+ str(n_10))\n",
    "\n",
    "continuer = 1\n",
    "while continuer:\n",
    "    reponse=input('Ecrire votre réponse :')\n",
    "    if reponse==bin(n_10)[2:]:\n",
    "        pts=pts+1\n",
    "        print (\"Bonne réponse ! \"+ \"\\U0001F600\")\n",
    "        print(\"Score : \"+str(pts))\n",
    "        recommencer=input (\"Recommencer ?(o/n)\").upper()\n",
    "        if recommencer !='O':\n",
    "            continuer=0\n",
    "            clear_output(wait=True)\n",
    "            fin=input(\"Score final : \"+str(pts))\n",
    "        else:\n",
    "            clear_output(wait=True)\n",
    "            n_10=randint(0,2**nbits)\n",
    "            print(\"Quelle est l'écriture en base 2 de l'entier \"+ str(n_10))\n",
    "            \n",
    "           \n",
    "    else:\n",
    "        print(\"Mauvaise réponse... \"+\"\\U0001F612\")"
   ]
  },
  {
   "cell_type": "code",
   "execution_count": null,
   "metadata": {},
   "outputs": [],
   "source": []
  }
 ],
 "metadata": {
  "kernelspec": {
   "display_name": "Python 3",
   "language": "python",
   "name": "python3"
  },
  "language_info": {
   "codemirror_mode": {
    "name": "ipython",
    "version": 3
   },
   "file_extension": ".py",
   "mimetype": "text/x-python",
   "name": "python",
   "nbconvert_exporter": "python",
   "pygments_lexer": "ipython3",
   "version": "3.7.2"
  }
 },
 "nbformat": 4,
 "nbformat_minor": 2
}
